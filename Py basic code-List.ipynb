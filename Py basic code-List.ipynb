{
 "cells": [
  {
   "cell_type": "markdown",
   "id": "9eef8da5",
   "metadata": {},
   "source": [
    "# List"
   ]
  },
  {
   "cell_type": "markdown",
   "id": "83e71f63",
   "metadata": {},
   "source": [
    "#### Que.1. Create a list of your favorite fruits. Add a new fruit to the list, remove one fruit, and print the modified list.\n"
   ]
  },
  {
   "cell_type": "code",
   "execution_count": 11,
   "id": "bdc7f442",
   "metadata": {},
   "outputs": [
    {
     "name": "stdout",
     "output_type": "stream",
     "text": [
      "Modified fruit list ----> ['Apple', 'Grapes', 'Custard Apple', 'Musk Melon']\n"
     ]
    }
   ],
   "source": [
    "fruit_list= [\"Apple\",\"Grapes\",\"Custard Apple\",\"Mango\"]\n",
    "\n",
    "fruit_list.append(\"Musk Melon\")\n",
    "\n",
    "fruit_list.remove(\"Mango\")\n",
    "\n",
    "print(\"Modified fruit list ---->\",fruit_list)"
   ]
  },
  {
   "cell_type": "markdown",
   "id": "3778ae87",
   "metadata": {},
   "source": [
    "#### Que.2. Write a program that calculates the sum of all the numbers in a given list of integers."
   ]
  },
  {
   "cell_type": "code",
   "execution_count": 12,
   "id": "4202efde",
   "metadata": {},
   "outputs": [
    {
     "name": "stdout",
     "output_type": "stream",
     "text": [
      "Sum of all the numbers in the list of integer ------>  103\n"
     ]
    }
   ],
   "source": [
    "num_list =[4,6,8,10,20,25,30]\n",
    "summ = 0\n",
    "\n",
    "for i in num_list:\n",
    "    summ = summ + i\n",
    "\n",
    "print(\"Sum of all the numbers in the list of integer ------> \", summ)"
   ]
  },
  {
   "cell_type": "markdown",
   "id": "3fa07774",
   "metadata": {},
   "source": [
    "#### Que.3.  Generate a list of the squares of the numbers from 1 to 10 using list comprehension."
   ]
  },
  {
   "cell_type": "code",
   "execution_count": 13,
   "id": "73d86af6",
   "metadata": {},
   "outputs": [
    {
     "name": "stdout",
     "output_type": "stream",
     "text": [
      "[1, 4, 9, 16, 25, 36, 49, 64, 81]\n"
     ]
    }
   ],
   "source": [
    "sq_list= [i*i for i in range(1,10)]\n",
    "print(sq_list)"
   ]
  },
  {
   "cell_type": "markdown",
   "id": "a34bdae0",
   "metadata": {},
   "source": [
    "#### Que.4. Make a list of numbers and use list comprehension to create a new list with only the even numbers.\n"
   ]
  },
  {
   "cell_type": "code",
   "execution_count": 14,
   "id": "880f81f9",
   "metadata": {},
   "outputs": [
    {
     "name": "stdout",
     "output_type": "stream",
     "text": [
      "Even numbers list ------>  [4, 8, 10, 20, 22]\n"
     ]
    }
   ],
   "source": [
    "num_list = [4,8,10,7,11,20,22,27]\n",
    " \n",
    "even_list = [i for i in num_list if i % 2 == 0]\n",
    " \n",
    "print(\"Even numbers list ------> \", even_list)"
   ]
  },
  {
   "cell_type": "markdown",
   "id": "8d3d7cef",
   "metadata": {},
   "source": [
    "#### Que.5.  Write a program that reverses a given list without using the reverse() method or slicing.\n"
   ]
  },
  {
   "cell_type": "code",
   "execution_count": 15,
   "id": "67d03dae",
   "metadata": {},
   "outputs": [
    {
     "name": "stdout",
     "output_type": "stream",
     "text": [
      "List before reverse ------->  ['Apple', 'Grapes', 'Custard Apple', 'Mango']\n",
      "List after reverse -------->  ['Mango', 'Custard Apple', 'Grapes', 'Apple']\n"
     ]
    }
   ],
   "source": [
    "original_list = [\"Apple\",\"Grapes\",\"Custard Apple\",\"Mango\"]\n",
    "\n",
    "print(\"List before reverse -------> \",original_list)\n",
    "\n",
    "reversed_list = reversed(original_list)\n",
    "\n",
    "print(\"List after reverse --------> \", list(reversed_list))"
   ]
  },
  {
   "cell_type": "markdown",
   "id": "778c72c4",
   "metadata": {},
   "source": [
    "#### Que.6.Make a list of words (strings) and sort them in alphabetical order. Print both the original and sorted lists.\n"
   ]
  },
  {
   "cell_type": "code",
   "execution_count": 16,
   "id": "1d47e808",
   "metadata": {},
   "outputs": [
    {
     "name": "stdout",
     "output_type": "stream",
     "text": [
      "List before sorting ------->  ['Apple', 'Grapes', 'Custard Apple', 'Mango']\n",
      "List after sorting -------->  ['Apple', 'Custard Apple', 'Grapes', 'Mango']\n"
     ]
    }
   ],
   "source": [
    "original_list = [\"Apple\",\"Grapes\",\"Custard Apple\",\"Mango\"]\n",
    "\n",
    "print(\"List before sorting -------> \",original_list)\n",
    "\n",
    "sorted_list = sorted(original_list)\n",
    "\n",
    "print(\"List after sorting --------> \", list(sorted_list))"
   ]
  },
  {
   "cell_type": "markdown",
   "id": "95692c5d",
   "metadata": {},
   "source": [
    "#### Que.7. Combine two lists into a single list without using the + operator. Print the merged list."
   ]
  },
  {
   "cell_type": "code",
   "execution_count": 17,
   "id": "65897401",
   "metadata": {},
   "outputs": [
    {
     "name": "stdout",
     "output_type": "stream",
     "text": [
      "Merged list ------>  ['Apple', 'Grapes', 'Custard Apple', 'Mango', 4, 6, 8, 10, 20, 25, 30]\n"
     ]
    }
   ],
   "source": [
    "fruit_list= [\"Apple\",\"Grapes\",\"Custard Apple\",\"Mango\"]\n",
    "\n",
    "num_list =[4,6,8,10,20,25,30]\n",
    "\n",
    "merged_list = fruit_list + num_list\n",
    "\n",
    "print(\"Merged list ------> \", merged_list)"
   ]
  },
  {
   "cell_type": "markdown",
   "id": "4d26adc3",
   "metadata": {},
   "source": [
    "#### Que.8.Given a list and a specific element, write a program to remove all occurrences of that element from the list.\n"
   ]
  },
  {
   "cell_type": "code",
   "execution_count": 18,
   "id": "abf11acc",
   "metadata": {},
   "outputs": [
    {
     "name": "stdout",
     "output_type": "stream",
     "text": [
      "New list ----->  [5, 15, 20, 25, 30, 35]\n"
     ]
    }
   ],
   "source": [
    "num_list = [5,10,15,10,20,25,10,30,35,10]\n",
    "\n",
    "element_count = num_list.count(10)\n",
    "\n",
    "for i in range(element_count):\n",
    "    \n",
    "    num_list.remove(10)\n",
    "\n",
    "print(\"New list -----> \",num_list)"
   ]
  },
  {
   "cell_type": "markdown",
   "id": "286f174c",
   "metadata": {},
   "source": [
    "#### Que.9.Create two lists of numbers and find the common elements between them. Print the result.\n",
    "\n"
   ]
  },
  {
   "cell_type": "code",
   "execution_count": 19,
   "id": "23c41685",
   "metadata": {},
   "outputs": [
    {
     "name": "stdout",
     "output_type": "stream",
     "text": [
      "Commom elementin lists ------> [1, 3, 5]\n"
     ]
    }
   ],
   "source": [
    "num_list1 = [1,2,3,4,5,6]\n",
    "num_list2 = [1,3,8,9,5]\n",
    "\n",
    "common_list = [i for i in num_list1 if i in num_list2]\n",
    "\n",
    "print(\"Commom elementin lists ------>\",common_list)"
   ]
  },
  {
   "cell_type": "markdown",
   "id": "7133125f",
   "metadata": {},
   "source": [
    "#### Que.10. Take a list of words and print the first three and last three words without changing the original list.\n"
   ]
  },
  {
   "cell_type": "code",
   "execution_count": 20,
   "id": "199f9afe",
   "metadata": {},
   "outputs": [
    {
     "name": "stdout",
     "output_type": "stream",
     "text": [
      "Original list ------> ['a', 'b', 'c', 'd', 'e', 'f', 'g', 'h']\n",
      "First three and last three words list -----> ['a', 'b', 'c', 'f', 'g', 'h']\n"
     ]
    }
   ],
   "source": [
    "name_list  = ['a','b','c','d','e','f','g','h']\n",
    "\n",
    "first_three= name_list[ : 3 ]\n",
    "last_three =name_list[-3: : ]\n",
    "\n",
    "first_last = first_three + last_three\n",
    "\n",
    "print(\"Original list ------>\",name_list)\n",
    "print(\"First three and last three words list ----->\",first_last)"
   ]
  },
  {
   "cell_type": "code",
   "execution_count": null,
   "id": "8a4e2c2d",
   "metadata": {},
   "outputs": [],
   "source": []
  },
  {
   "cell_type": "code",
   "execution_count": null,
   "id": "2d2d2313",
   "metadata": {},
   "outputs": [],
   "source": []
  }
 ],
 "metadata": {
  "kernelspec": {
   "display_name": "Python 3 (ipykernel)",
   "language": "python",
   "name": "python3"
  },
  "language_info": {
   "codemirror_mode": {
    "name": "ipython",
    "version": 3
   },
   "file_extension": ".py",
   "mimetype": "text/x-python",
   "name": "python",
   "nbconvert_exporter": "python",
   "pygments_lexer": "ipython3",
   "version": "3.11.4"
  }
 },
 "nbformat": 4,
 "nbformat_minor": 5
}
