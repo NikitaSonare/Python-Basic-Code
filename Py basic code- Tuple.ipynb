{
 "cells": [
  {
   "cell_type": "markdown",
   "id": "01059af4",
   "metadata": {},
   "source": [
    "# Tuple"
   ]
  },
  {
   "cell_type": "markdown",
   "id": "26cbacbc",
   "metadata": {},
   "source": [
    "#### Que.1.  Create a tuple containing the names of your favorite colors."
   ]
  },
  {
   "cell_type": "code",
   "execution_count": 3,
   "id": "a4772e94",
   "metadata": {},
   "outputs": [
    {
     "name": "stdout",
     "output_type": "stream",
     "text": [
      "('Peach', 'Emerald', 'Blue', 'Black')\n"
     ]
    }
   ],
   "source": [
    "fav_colors = (\"Peach\",\"Emerald\",\"Blue\",\"Black\")\n",
    "print(fav_colors)"
   ]
  },
  {
   "cell_type": "markdown",
   "id": "fc9d3c81",
   "metadata": {},
   "source": [
    "#### Que.2. Define a tuple with the days of the week. Write a program that asks the user for a number (1 to 7) and prints the corresponding day of the week.\n"
   ]
  },
  {
   "cell_type": "code",
   "execution_count": 4,
   "id": "ae552877",
   "metadata": {},
   "outputs": [
    {
     "name": "stdout",
     "output_type": "stream",
     "text": [
      "Enter a number from 1 to 7-------> 5\n",
      "5 is Friday\n"
     ]
    }
   ],
   "source": [
    "week= ('Monday','Tuesday','Wednesday','Thursday','Friday','Saturday','Sunday')\n",
    "\n",
    "day = int(input(\"Enter a number from 1 to 7-------> \"))\n",
    "\n",
    "if day == 1:\n",
    "    print(day,\"is\", week[0])\n",
    "elif day == 2:\n",
    "    print(day,\"is\", week[1])\n",
    "elif day == 3:\n",
    "    print(day, \"is\",week[2] )\n",
    "elif day == 4:\n",
    "    print(day, \"is\",week[3] )\n",
    "elif day == 5:\n",
    "    print(day, \"is\",week[4] )\n",
    "elif day == 6:\n",
    "    print(day, \"is\",week[5] )\n",
    "elif day == 7:\n",
    "    print(day, \"is\",week[6] )\n",
    "else:\n",
    "    print(\"Wrong input. Please enter a number from 1 to 7.\")"
   ]
  },
  {
   "cell_type": "markdown",
   "id": "26afa8f8",
   "metadata": {},
   "source": [
    "#### Que.3. Make a tuple with the coordinates (x, y). Write a program that unpacks the tuple and prints the values of x and y separately.\n"
   ]
  },
  {
   "cell_type": "code",
   "execution_count": 5,
   "id": "1525906d",
   "metadata": {},
   "outputs": [
    {
     "name": "stdout",
     "output_type": "stream",
     "text": [
      "The value of x and y ----->  1 2\n"
     ]
    }
   ],
   "source": [
    "x, y = (1, 2)\n",
    "print(\"The value of x and y -----> \" , x , y)"
   ]
  },
  {
   "cell_type": "markdown",
   "id": "ac825103",
   "metadata": {},
   "source": [
    "#### Que.4.. Introduce two tuples and concatenate them to form a new tuple. Print the resulting tuple.\n"
   ]
  },
  {
   "cell_type": "code",
   "execution_count": 6,
   "id": "4c534348",
   "metadata": {},
   "outputs": [
    {
     "name": "stdout",
     "output_type": "stream",
     "text": [
      "('Nikita', 'Mayuri', 'Jasmin', 2, 8, 9)\n"
     ]
    }
   ],
   "source": [
    "name_tuple = (\"Nikita\",\"Mayuri\",\"Jasmin\")\n",
    "num_tuple = (2,8,9)\n",
    "new_tuple= name_tuple + num_tuple\n",
    "print(new_tuple)"
   ]
  },
  {
   "cell_type": "markdown",
   "id": "69883e4b",
   "metadata": {},
   "source": [
    "#### Que.5. Make a tuple of numbers. Use slicing to extract a sub-tuple containing the middle three numbers.\n"
   ]
  },
  {
   "cell_type": "code",
   "execution_count": 7,
   "id": "50587898",
   "metadata": {},
   "outputs": [
    {
     "name": "stdout",
     "output_type": "stream",
     "text": [
      "extract tuple ----->  (6, 8, 10)\n"
     ]
    }
   ],
   "source": [
    "num_tuple = (2,4,6,8,10,12,14)\n",
    "\n",
    "print(\"extract tuple -----> \",num_tuple[2 : 5])"
   ]
  },
  {
   "cell_type": "markdown",
   "id": "361b6521",
   "metadata": {},
   "source": [
    "#### Que.6.Try to modify an element in a tuple and explain why it results in an error."
   ]
  },
  {
   "cell_type": "code",
   "execution_count": 8,
   "id": "548540aa",
   "metadata": {},
   "outputs": [
    {
     "ename": "TypeError",
     "evalue": "'tuple' object does not support item assignment",
     "output_type": "error",
     "traceback": [
      "\u001b[1;31m---------------------------------------------------------------------------\u001b[0m",
      "\u001b[1;31mTypeError\u001b[0m                                 Traceback (most recent call last)",
      "Cell \u001b[1;32mIn[8], line 2\u001b[0m\n\u001b[0;32m      1\u001b[0m fav_colors \u001b[38;5;241m=\u001b[39m (\u001b[38;5;124m\"\u001b[39m\u001b[38;5;124mPeach\u001b[39m\u001b[38;5;124m\"\u001b[39m,\u001b[38;5;124m\"\u001b[39m\u001b[38;5;124mEmerald\u001b[39m\u001b[38;5;124m\"\u001b[39m,\u001b[38;5;124m\"\u001b[39m\u001b[38;5;124mBlue\u001b[39m\u001b[38;5;124m\"\u001b[39m,\u001b[38;5;124m\"\u001b[39m\u001b[38;5;124mBlack\u001b[39m\u001b[38;5;124m\"\u001b[39m)\n\u001b[1;32m----> 2\u001b[0m fav_colors[\u001b[38;5;241m2\u001b[39m]\u001b[38;5;241m=\u001b[39m\u001b[38;5;124m\"\u001b[39m\u001b[38;5;124mGreen\u001b[39m\u001b[38;5;124m\"\u001b[39m\n\u001b[0;32m      3\u001b[0m fav_colors\n",
      "\u001b[1;31mTypeError\u001b[0m: 'tuple' object does not support item assignment"
     ]
    }
   ],
   "source": [
    "fav_colors = (\"Peach\",\"Emerald\",\"Blue\",\"Black\")\n",
    "fav_colors[2]=\"Green\"\n",
    "fav_colors"
   ]
  },
  {
   "cell_type": "markdown",
   "id": "997c3d73",
   "metadata": {},
   "source": [
    "Tuples are immutable. This means that once a tuple's elements have been allocated, they cannot be modified."
   ]
  },
  {
   "cell_type": "markdown",
   "id": "e9e9e662",
   "metadata": {},
   "source": [
    "#### Que.7. Create a tuple of mixed data types (e.g., numbers and strings). Use the count() method to count the number of occurrences of a specific element and the index() method to find its position.\n",
    "\n"
   ]
  },
  {
   "cell_type": "code",
   "execution_count": 9,
   "id": "fe554877",
   "metadata": {},
   "outputs": [
    {
     "name": "stdout",
     "output_type": "stream",
     "text": [
      "Count --->  2\n",
      "Index --->  3\n"
     ]
    }
   ],
   "source": [
    "mixed_tuple = (3,2,6,\"Nikita\",2.5,\"Python\",\"Nikita\")\n",
    "\n",
    "print(\"Count ---> \",mixed_tuple.count(\"Nikita\"))\n",
    "print(\"Index ---> \",mixed_tuple.index(\"Nikita\"))"
   ]
  },
  {
   "cell_type": "markdown",
   "id": "bd9e057c",
   "metadata": {},
   "source": [
    "#### Que.8. Define two tuples with numbers. Write a program that compares the two tuples and prints whether they are equal, not equal, or one is greater than the other.\n"
   ]
  },
  {
   "cell_type": "code",
   "execution_count": 10,
   "id": "d9a58f03",
   "metadata": {},
   "outputs": [
    {
     "name": "stdout",
     "output_type": "stream",
     "text": [
      "Is Tuple1  equal to Tuple 2 ? ------>  False\n",
      "Is Tuple1 not equal to Tuple2 ? ----->  True\n",
      "Is Tuple1 less than Tuple2 ? -------->   True\n",
      "Is Tuple1 greater than Tuple2 ? ------>  False\n"
     ]
    }
   ],
   "source": [
    "tuple1 = (12,22,36,86)\n",
    "tuple2 = (12,22,46,88)\n",
    " \n",
    "print (\"Is Tuple1  equal to Tuple 2 ? ------> \",tuple1 == tuple2)  \n",
    " \n",
    "print (\"Is Tuple1 not equal to Tuple2 ? -----> \",tuple1 != tuple2)    \n",
    "\n",
    "print (\"Is Tuple1 less than Tuple2 ? -------->  \",tuple1 < tuple2)    \n",
    " \n",
    "print (\"Is Tuple1 greater than Tuple2 ? ------> \",tuple1 > tuple2)    "
   ]
  },
  {
   "cell_type": "markdown",
   "id": "f5f68c13",
   "metadata": {},
   "source": [
    "#### Que.9. Create a function that accepts a variable number of arguments and returns them as a tuple. Then, call the function with different numbers of arguments.\n"
   ]
  },
  {
   "cell_type": "code",
   "execution_count": 11,
   "id": "6d75422d",
   "metadata": {},
   "outputs": [],
   "source": [
    "def num_tuple(*args):\n",
    "    return (args)"
   ]
  },
  {
   "cell_type": "code",
   "execution_count": 12,
   "id": "229664fd",
   "metadata": {},
   "outputs": [
    {
     "data": {
      "text/plain": [
       "(5, 6, 3, 8, 7, 9)"
      ]
     },
     "execution_count": 12,
     "metadata": {},
     "output_type": "execute_result"
    }
   ],
   "source": [
    "num_tuple(5,6,3,8,7,9)"
   ]
  },
  {
   "cell_type": "markdown",
   "id": "078279ee",
   "metadata": {},
   "source": [
    "#### Que.10.Make a tuple of names. Write a program that uses a loop to iterate through the names and print each one.\n"
   ]
  },
  {
   "cell_type": "code",
   "execution_count": 13,
   "id": "c118813e",
   "metadata": {},
   "outputs": [
    {
     "name": "stdout",
     "output_type": "stream",
     "text": [
      "Payal\n",
      "Nikita\n",
      "Minal\n",
      "Shweta\n"
     ]
    }
   ],
   "source": [
    "name_tuple = (\"Payal\",\"Nikita\",\"Minal\",\"Shweta\")\n",
    "\n",
    "for i in name_tuple:\n",
    "    print(i)"
   ]
  },
  {
   "cell_type": "code",
   "execution_count": null,
   "id": "26646892",
   "metadata": {},
   "outputs": [],
   "source": []
  },
  {
   "cell_type": "code",
   "execution_count": null,
   "id": "a64c52d9",
   "metadata": {},
   "outputs": [],
   "source": []
  }
 ],
 "metadata": {
  "kernelspec": {
   "display_name": "Python 3 (ipykernel)",
   "language": "python",
   "name": "python3"
  },
  "language_info": {
   "codemirror_mode": {
    "name": "ipython",
    "version": 3
   },
   "file_extension": ".py",
   "mimetype": "text/x-python",
   "name": "python",
   "nbconvert_exporter": "python",
   "pygments_lexer": "ipython3",
   "version": "3.11.4"
  }
 },
 "nbformat": 4,
 "nbformat_minor": 5
}
