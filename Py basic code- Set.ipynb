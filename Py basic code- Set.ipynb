{
 "cells": [
  {
   "cell_type": "markdown",
   "id": "498e3345",
   "metadata": {},
   "source": [
    "# Set"
   ]
  },
  {
   "cell_type": "markdown",
   "id": "d6ea80d9",
   "metadata": {},
   "source": [
    "#### Que.1.Create a set containing the names of your favorite animal."
   ]
  },
  {
   "cell_type": "code",
   "execution_count": 1,
   "id": "1cb07413",
   "metadata": {},
   "outputs": [
    {
     "name": "stdout",
     "output_type": "stream",
     "text": [
      "{'Elephant', 'Duck', 'Rabbit', 'Deer'}\n"
     ]
    }
   ],
   "source": [
    "fav_animals = {\"Duck\", \"Rabbit\", \"Deer\",\"Elephant\"}\n",
    "print(fav_animals)"
   ]
  },
  {
   "cell_type": "markdown",
   "id": "d079c7a7",
   "metadata": {},
   "source": [
    "#### Que.2.Create two sets of integers and perform set operations to find their union,intersection, and symmetric difference. Print the results.\n"
   ]
  },
  {
   "cell_type": "code",
   "execution_count": 2,
   "id": "83b50aba",
   "metadata": {},
   "outputs": [
    {
     "name": "stdout",
     "output_type": "stream",
     "text": [
      "union set ----->  {2, 5, 6, 7, 8, 9}\n",
      "intersection set ----->  {8, 5}\n",
      "symmetric difference set ------>   {2, 6, 7, 9}\n"
     ]
    }
   ],
   "source": [
    "first_set = {2,5,9,8}\n",
    "second_set = {5,6,8,7}\n",
    "union_set = first_set.union(second_set)\n",
    "inter_set = first_set.intersection(second_set)\n",
    "symm_diff = first_set.symmetric_difference(second_set)\n",
    "print(\"union set -----> \",union_set)\n",
    "print(\"intersection set -----> \",inter_set)\n",
    "print(\"symmetric difference set ------>  \",symm_diff)"
   ]
  },
  {
   "cell_type": "markdown",
   "id": "860a55a4",
   "metadata": {},
   "source": [
    "#### Que.3. Create a set of cities. Write a program that checks if a specific city is in the set and prints a message indicating its presence or absence.\n"
   ]
  },
  {
   "cell_type": "code",
   "execution_count": 3,
   "id": "4bc6d74d",
   "metadata": {},
   "outputs": [
    {
     "name": "stdout",
     "output_type": "stream",
     "text": [
      "True\n",
      "False\n",
      "False\n"
     ]
    }
   ],
   "source": [
    "cities_set = {\"Nagpur\", \"Amaravati\", \"Wardha\",\"Mumbai\",\"Pune\",\"Nashik\"}\n",
    "print(\"Pune\" in cities_set)\n",
    "print(\"Pune\" not in cities_set)\n",
    "print(\"Thane\" in cities_set)\n"
   ]
  },
  {
   "cell_type": "markdown",
   "id": "57554fb8",
   "metadata": {},
   "source": [
    "#### Que.4.Create an empty set and add elements to it using the add() method. Print the set after each addition.\n"
   ]
  },
  {
   "cell_type": "code",
   "execution_count": 4,
   "id": "d95ec834",
   "metadata": {},
   "outputs": [
    {
     "name": "stdout",
     "output_type": "stream",
     "text": [
      "{2}\n",
      "{2, 4}\n",
      "{8, 2, 4}\n",
      "{8, 16, 2, 4}\n"
     ]
    }
   ],
   "source": [
    "empty_set = set()\n",
    "empty_set.add(2) \n",
    "print(empty_set)\n",
    "empty_set.add(4)\n",
    "print(empty_set)\n",
    "empty_set.add(8)\n",
    "print(empty_set)\n",
    "empty_set.add(16)\n",
    "print(empty_set)"
   ]
  },
  {
   "cell_type": "markdown",
   "id": "b36ebfb7",
   "metadata": {},
   "source": [
    "#### Que.5. Given a set of numbers, remove a specific number from the set. Print the modified set.\n"
   ]
  },
  {
   "cell_type": "code",
   "execution_count": 5,
   "id": "a5a39a9a",
   "metadata": {},
   "outputs": [
    {
     "name": "stdout",
     "output_type": "stream",
     "text": [
      "Modified set ------>  {256, 32, 2, 4}\n"
     ]
    }
   ],
   "source": [
    "num_set = {2,4,8,32,256}\n",
    "num_set.remove(8)\n",
    "print(\"Modified set ------> \",num_set)"
   ]
  },
  {
   "cell_type": "markdown",
   "id": "2ee6476c",
   "metadata": {},
   "source": [
    "#### Que.6.Make two sets of words (strings) and find the words that are unique to each set (not present in both sets). Print the results.\n"
   ]
  },
  {
   "cell_type": "code",
   "execution_count": 6,
   "id": "2c6a9964",
   "metadata": {},
   "outputs": [
    {
     "name": "stdout",
     "output_type": "stream",
     "text": [
      "Unique set 1------>  {'SAS', 'R', 'Tableau'}\n",
      "Unique set 2 ----->  {'Java', 'SQL'}\n"
     ]
    }
   ],
   "source": [
    "data_science = {\"Python\",\"R\",\"Tableau\",\"SAS\",\"Git\"}\n",
    "data_engg = {\"Python\",\"Java\",\"Git\",\"SQL\"}\n",
    "unique_set1= data_science.difference(data_engg)\n",
    "unique_set2= data_engg.difference(data_science)\n",
    "print(\"Unique set 1------> \", unique_set1)\n",
    "print(\"Unique set 2 -----> \", unique_set2)"
   ]
  },
  {
   "cell_type": "markdown",
   "id": "e7b37083",
   "metadata": {},
   "source": [
    "#### Que.7.Define two sets of numbers and determine if one set is a subset of the other. Print a message indicating the relationship.\n"
   ]
  },
  {
   "cell_type": "code",
   "execution_count": 7,
   "id": "ed62cf96",
   "metadata": {},
   "outputs": [
    {
     "name": "stdout",
     "output_type": "stream",
     "text": [
      "Is num_set2 a subset of num_set2 ?:  True\n"
     ]
    }
   ],
   "source": [
    "num_set1 = {2,4,6,8,10}\n",
    "num_set2 = {2,4,6}\n",
    "\n",
    "print(\"Is num_set2 a subset of num_set2 ?: \", num_set2.issubset(num_set1))\n"
   ]
  },
  {
   "cell_type": "markdown",
   "id": "2f31016f",
   "metadata": {},
   "source": [
    "#### Que.8.Make two sets and use the update() method to add the elements from one set to another. Print the updated set.\n"
   ]
  },
  {
   "cell_type": "code",
   "execution_count": 8,
   "id": "fa5e2ba5",
   "metadata": {},
   "outputs": [
    {
     "name": "stdout",
     "output_type": "stream",
     "text": [
      "Updated set ----->  {2, 6, 8, 10, 12, 'Aarti', 'Mayuri', 'Nikita'}\n"
     ]
    }
   ],
   "source": [
    "num_set = {2,8,6,10,12}\n",
    "name_set = {\"Nikita\",\"Mayuri\",\"Aarti\"}\n",
    "name_set.update(num_set)\n",
    "print(\"Updated set -----> \", name_set)"
   ]
  },
  {
   "cell_type": "markdown",
   "id": "99e83a23",
   "metadata": {},
   "source": [
    "#### Que.9. Introduce a set of numbers and use a set comprehension to create a new set with only the even numbers.\n"
   ]
  },
  {
   "cell_type": "code",
   "execution_count": 9,
   "id": "9b7f3127",
   "metadata": {},
   "outputs": [
    {
     "name": "stdout",
     "output_type": "stream",
     "text": [
      "{24, 82, 44, 78}\n"
     ]
    }
   ],
   "source": [
    "numbers = {1,24,55,78,93,82,44,13}\n",
    "even_num = { x for x in numbers if x % 2 == 0} \n",
    "print(even_num)\n"
   ]
  },
  {
   "cell_type": "markdown",
   "id": "930e5bbd",
   "metadata": {},
   "source": [
    "#### Que.10.Create a set of names. Write a program that uses a loop to iterate through the set and print each name.\n"
   ]
  },
  {
   "cell_type": "code",
   "execution_count": 10,
   "id": "d888c506",
   "metadata": {},
   "outputs": [
    {
     "name": "stdout",
     "output_type": "stream",
     "text": [
      "Nikita\n",
      "Minu\n",
      "Sneha\n",
      "Shweta\n",
      "chinu\n"
     ]
    }
   ],
   "source": [
    "name_set = {\"Nikita\",\"Shweta\",\"chinu\",\"Sneha\",\"Minu\"}\n",
    "for i in name_set:\n",
    "    print(i)"
   ]
  },
  {
   "cell_type": "code",
   "execution_count": null,
   "id": "6340d002",
   "metadata": {},
   "outputs": [],
   "source": []
  },
  {
   "cell_type": "code",
   "execution_count": null,
   "id": "5cb6a131",
   "metadata": {},
   "outputs": [],
   "source": []
  }
 ],
 "metadata": {
  "kernelspec": {
   "display_name": "Python 3 (ipykernel)",
   "language": "python",
   "name": "python3"
  },
  "language_info": {
   "codemirror_mode": {
    "name": "ipython",
    "version": 3
   },
   "file_extension": ".py",
   "mimetype": "text/x-python",
   "name": "python",
   "nbconvert_exporter": "python",
   "pygments_lexer": "ipython3",
   "version": "3.11.4"
  }
 },
 "nbformat": 4,
 "nbformat_minor": 5
}
