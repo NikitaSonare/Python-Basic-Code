{
 "cells": [
  {
   "cell_type": "markdown",
   "id": "4d115d80",
   "metadata": {},
   "source": [
    "# Input Method"
   ]
  },
  {
   "cell_type": "markdown",
   "id": "b5248004",
   "metadata": {},
   "source": [
    "#### Que.1. Write a program that prints the user to enter their name, age, and city. Then, print out a message that includes this information.\n"
   ]
  },
  {
   "cell_type": "code",
   "execution_count": 1,
   "id": "c542b968",
   "metadata": {},
   "outputs": [
    {
     "name": "stdout",
     "output_type": "stream",
     "text": [
      "Enter your name------------->Nikita\n",
      "Enter your age----------->30\n",
      "Enter name  of your city---->Nagpur\n",
      "\n",
      " Name :  Nikita \n",
      " Age   :  30 \n",
      " City :  Nagpur\n"
     ]
    }
   ],
   "source": [
    "user_name = input(\"Enter your name------------->\")\n",
    "user_age = int(input(\"Enter your age----------->\"))\n",
    "user_city = input(\"Enter name  of your city---->\")\n",
    "\n",
    "print(\"\\n Name : \",user_name,\"\\n Age   : \",user_age,\"\\n City : \",user_city)"
   ]
  },
  {
   "cell_type": "markdown",
   "id": "b764967e",
   "metadata": {},
   "source": [
    "#### Que.2. Create a simple calculator program that takes two numbers and an operation (+, -, *,  /) as input from the user and displays the result\n"
   ]
  },
  {
   "cell_type": "code",
   "execution_count": 2,
   "id": "48853810",
   "metadata": {},
   "outputs": [
    {
     "name": "stdout",
     "output_type": "stream",
     "text": [
      "Enter mathamatical operator(+, -, *, /)--------->  +\n",
      "Enter first number------>11\n",
      "Enter second number----->12\n",
      "11  +  12  =  23\n"
     ]
    }
   ],
   "source": [
    "user_operation = input('''Enter mathamatical operator(+, -, *, /)--------->  ''')\n",
    "\n",
    "num1 = int(input(\"Enter first number------>\"))\n",
    "num2 = int(input(\"Enter second number----->\"))\n",
    "\n",
    "if user_operation == \"+\":\n",
    "    print(num1, \" + \",num2,\" = \", num1+num2)\n",
    "elif user_operation == \"-\":\n",
    "    print(num1, \" - \",num2,\" = \", num1-num2)\n",
    "elif user_operation == \"*\":\n",
    "    print(num1, \" * \",num2,\" = \", num1*num2)\n",
    "elif user_operation == \"/\":\n",
    "    print(num1, \" / \",num2,\" = \", num1/num2)\n",
    "else:\n",
    "    print(\"You have not entered valid operator.\")"
   ]
  },
  {
   "cell_type": "markdown",
   "id": "ea9eb16f",
   "metadata": {},
   "source": [
    "#### Que.3. Define a program that asks the user to enter a number and determines whether it's even or odd.\n"
   ]
  },
  {
   "cell_type": "code",
   "execution_count": 3,
   "id": "83329fbd",
   "metadata": {},
   "outputs": [
    {
     "name": "stdout",
     "output_type": "stream",
     "text": [
      "Enter a number--------->  24\n",
      "24  is Even number.\n"
     ]
    }
   ],
   "source": [
    "user_num = int(input(\"Enter a number--------->  \"))\n",
    "\n",
    "if  (user_num % 2) == 0 :\n",
    "    print(user_num, \" is Even number.\")\n",
    "else:\n",
    "    print(user_num, \" is Odd number.\")"
   ]
  },
  {
   "cell_type": "markdown",
   "id": "e4f22ee9",
   "metadata": {},
   "source": [
    "#### Que.4.Make a program that allows the user to convert between Celsius and Fahrenheit temperatures. Ask the user for the temperature value and the scale they are using.\n"
   ]
  },
  {
   "cell_type": "code",
   "execution_count": 4,
   "id": "a460516a",
   "metadata": {},
   "outputs": [
    {
     "name": "stdout",
     "output_type": "stream",
     "text": [
      "Enter temp. in celcius------->  27\n",
      "27 deg. Celcius =   80.6 deg.Fahrenheit\n"
     ]
    }
   ],
   "source": [
    "celcius = int(input(\"Enter temp. in celcius------->  \"))\n",
    "\n",
    "Fahrenheit = (celcius * 1.8) + 32\n",
    "\n",
    "print(celcius ,\"deg. Celcius =  \",Fahrenheit,\"deg.Fahrenheit\")"
   ]
  },
  {
   "cell_type": "markdown",
   "id": "b954cec7",
   "metadata": {},
   "source": [
    "#### Que.5.Write a program that prompts the user to create a password. Check if the password meets certain criteria (e.g., minimum length, containing both letters and numbers).\n"
   ]
  },
  {
   "cell_type": "code",
   "execution_count": 5,
   "id": "fd89d424",
   "metadata": {},
   "outputs": [],
   "source": [
    "def pword(password):\n",
    "    length = letter = number = False\n",
    "\n",
    "    if 15>len(password)>= 8:\n",
    "        length = True\n",
    "    \n",
    "        for i in password:\n",
    "            if i.isalpha():\n",
    "                letter = True\n",
    "            elif i.isnumeric():\n",
    "                number = True\n",
    "        \n",
    "\n",
    "    if length and letter and number:\n",
    "        print('Valid password.')\n",
    "    else:\n",
    "        print('Invalid password.')"
   ]
  },
  {
   "cell_type": "code",
   "execution_count": 6,
   "id": "bba9025e",
   "metadata": {},
   "outputs": [
    {
     "name": "stdout",
     "output_type": "stream",
     "text": [
      "Valid password.\n"
     ]
    }
   ],
   "source": [
    "pword(\"python123\")"
   ]
  },
  {
   "cell_type": "markdown",
   "id": "6cf60c16",
   "metadata": {},
   "source": [
    "#### Que.6. Implement a number guessing game where the computer generates a random number, and the user has to guess it. Provide feedback on whether the guess is too high or too low.\n",
    "\n"
   ]
  },
  {
   "cell_type": "code",
   "execution_count": 7,
   "id": "fb5192b9",
   "metadata": {},
   "outputs": [
    {
     "name": "stdout",
     "output_type": "stream",
     "text": [
      "Enter a number between 1 and 100 -----> 60\n",
      "Guess is Too low.\n",
      "Enter a number between 1 and 100 -----> 70\n",
      "Guess is Too high.\n",
      "Enter a number between 1 and 100 -----> 65\n",
      "Guess is Too high.\n",
      "Enter a number between 1 and 100 -----> 63\n",
      "Guess is Too high.\n",
      "Enter a number between 1 and 100 -----> 62\n",
      "You won!\n",
      "Number of attempt used ------>  5\n"
     ]
    }
   ],
   "source": [
    "import random\n",
    "random_number = random.randint(1,100)\n",
    "win = False\n",
    "attempt =0\n",
    "while win==False:\n",
    "    Your_guess = input(\"Enter a number between 1 and 100 -----> \")\n",
    "    attempt = attempt + 1\n",
    "    if random_number==int(Your_guess):\n",
    "        print(\"You won!\")\n",
    "        print(\"Number of attempt used ------> \",attempt)\n",
    "        win == True\n",
    "        break\n",
    "    else:\n",
    "        if random_number > int(Your_guess):\n",
    "            print(\"Guess is Too low.\")\n",
    "        else:\n",
    "            print(\"Guess is Too high.\")"
   ]
  },
  {
   "cell_type": "markdown",
   "id": "2610b593",
   "metadata": {},
   "source": [
    "#### Que.7-. Assume a program that asks the user for their height and weight, then calculates and displays their Body Mass Index.\n"
   ]
  },
  {
   "cell_type": "code",
   "execution_count": 8,
   "id": "cdcb884a",
   "metadata": {},
   "outputs": [
    {
     "name": "stdout",
     "output_type": "stream",
     "text": [
      "Enter your height in meter--------->  1.65\n",
      "Enter your weight in kg------------>  68\n",
      "Your Body Mass Index is------->  24.977043158861342\n"
     ]
    }
   ],
   "source": [
    "height= float(input(\"Enter your height in meter--------->  \"))\n",
    "weight= float(input(\"Enter your weight in kg------------>  \"))\n",
    "\n",
    "BMI = weight / (height * height)\n",
    "\n",
    "print(\"Your Body Mass Index is-------> \", BMI)\n"
   ]
  },
  {
   "cell_type": "markdown",
   "id": "edd30aa2",
   "metadata": {},
   "source": [
    "#### Que.8-Ask the user to enter a positive integer and calculate its factorial\n"
   ]
  },
  {
   "cell_type": "code",
   "execution_count": 10,
   "id": "8786e017",
   "metadata": {},
   "outputs": [
    {
     "name": "stdout",
     "output_type": "stream",
     "text": [
      "Enter a positive integer------>   5\n"
     ]
    },
    {
     "data": {
      "text/plain": [
       "120"
      ]
     },
     "execution_count": 10,
     "metadata": {},
     "output_type": "execute_result"
    }
   ],
   "source": [
    "import math\n",
    "user= int(input(\"Enter a positive integer------>   \"))\n",
    "\n",
    "math.factorial(user)"
   ]
  },
  {
   "cell_type": "markdown",
   "id": "76026503",
   "metadata": {},
   "source": [
    "#### Que.9- Prompt the user to input a string and then display the reverse of that string."
   ]
  },
  {
   "cell_type": "code",
   "execution_count": 11,
   "id": "f24948f4",
   "metadata": {},
   "outputs": [
    {
     "name": "stdout",
     "output_type": "stream",
     "text": [
      "Enter a string------>\"Nikita\"\n"
     ]
    },
    {
     "data": {
      "text/plain": [
       "'\"atikiN\"'"
      ]
     },
     "execution_count": 11,
     "metadata": {},
     "output_type": "execute_result"
    }
   ],
   "source": [
    "user = str(input(\"Enter a string------>\"))\n",
    "user[ : :-1]"
   ]
  },
  {
   "cell_type": "markdown",
   "id": "0504bfcf",
   "metadata": {},
   "source": [
    "#### Que.10-Find a program that asks the user for a number and generates the first \"n\" numbers in the Fibonacci sequence\n"
   ]
  },
  {
   "cell_type": "code",
   "execution_count": 12,
   "id": "b9a75a78",
   "metadata": {},
   "outputs": [
    {
     "name": "stdout",
     "output_type": "stream",
     "text": [
      "Enter the Number -------> 10\n",
      "0\n",
      "1\n",
      "1\n",
      "2\n",
      "3\n",
      "5\n",
      "8\n",
      "13\n",
      "21\n",
      "34\n"
     ]
    }
   ],
   "source": [
    "num = int(input(\"Enter the Number -------> \"))\n",
    "First_val = 0\n",
    "Second_val = 1\n",
    "for n in range(0, num):\n",
    "    if(n <= 1):\n",
    "        next = n\n",
    "    else:\n",
    "        next = First_val + Second_val\n",
    "        First_val = Second_val\n",
    "        Second_val = next\n",
    "    print(next)"
   ]
  },
  {
   "cell_type": "code",
   "execution_count": null,
   "id": "53ffa1bf",
   "metadata": {},
   "outputs": [],
   "source": []
  }
 ],
 "metadata": {
  "kernelspec": {
   "display_name": "Python 3 (ipykernel)",
   "language": "python",
   "name": "python3"
  },
  "language_info": {
   "codemirror_mode": {
    "name": "ipython",
    "version": 3
   },
   "file_extension": ".py",
   "mimetype": "text/x-python",
   "name": "python",
   "nbconvert_exporter": "python",
   "pygments_lexer": "ipython3",
   "version": "3.11.4"
  }
 },
 "nbformat": 4,
 "nbformat_minor": 5
}
