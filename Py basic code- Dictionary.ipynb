{
 "cells": [
  {
   "cell_type": "markdown",
   "id": "f4af6fe5",
   "metadata": {},
   "source": [
    "# Dictionary"
   ]
  },
  {
   "cell_type": "markdown",
   "id": "6f967120",
   "metadata": {},
   "source": [
    "#### Que.1. Create a dictionary that represents the information of a person, including name, age,and city.\n"
   ]
  },
  {
   "cell_type": "code",
   "execution_count": 1,
   "id": "b572d662",
   "metadata": {},
   "outputs": [
    {
     "name": "stdout",
     "output_type": "stream",
     "text": [
      "Perssonal information ---->  {'Name': 'Nikita', 'Age': 30, 'City': 'Nagpur'}\n"
     ]
    }
   ],
   "source": [
    "person_dict = {\"Name\":\"Nikita\", \"Age\":30, \"City\":\"Nagpur\"}\n",
    "print(\"Perssonal information ----> \",person_dict)"
   ]
  },
  {
   "cell_type": "markdown",
   "id": "a490f352",
   "metadata": {},
   "source": [
    "#### Que.2.Define a dictionary with information about a book (title, author, and year of publication). Write a program to access and print these values.\n"
   ]
  },
  {
   "cell_type": "code",
   "execution_count": 2,
   "id": "fd3dde01",
   "metadata": {},
   "outputs": [
    {
     "data": {
      "text/plain": [
       "dict_values(['Let Me Say it Now', 'Rakesh Maria', 2020])"
      ]
     },
     "execution_count": 2,
     "metadata": {},
     "output_type": "execute_result"
    }
   ],
   "source": [
    "book_dict = {\"Title\":\"Let Me Say it Now\", \"Author\":\"Rakesh Maria\", \"Year of Publication\":2020}\n",
    "book_dict.values()"
   ]
  },
  {
   "cell_type": "markdown",
   "id": "c73e4784",
   "metadata": {},
   "source": [
    "#### Que.3.Make a dictionary with the names of cities as keys and their populations as values.Add a new city to the dictionary and update the population of an existing city.\n"
   ]
  },
  {
   "cell_type": "code",
   "execution_count": 3,
   "id": "262a4372",
   "metadata": {},
   "outputs": [
    {
     "name": "stdout",
     "output_type": "stream",
     "text": [
      "Original Dictionary ------>  {'Nagpur': 1000000, 'Pune': 40000000, 'Mumbai': 90000000}\n",
      "Updated Dictionary1 ------->  {'Nagpur': 1000000, 'Pune': 40000000, 'Mumbai': 90000000, 'Nashik': 45000000}\n",
      "Updated Dictionary 2 ------>  {'Nagpur': 1000000, 'Pune': 40000000, 'Mumbai': 95000000, 'Nashik': 45000000}\n"
     ]
    }
   ],
   "source": [
    "city_dict = {\"Nagpur\":1000000, \"Pune\":40000000, \"Mumbai\":90000000}\n",
    "print(\"Original Dictionary ------> \",city_dict)\n",
    "city_dict[\"Nashik\"]= 45000000\n",
    "print(\"Updated Dictionary1 -------> \",city_dict)\n",
    "city_dict[\"Mumbai\"]=95000000\n",
    "print(\"Updated Dictionary 2 ------> \",city_dict)"
   ]
  },
  {
   "cell_type": "markdown",
   "id": "a28ff728",
   "metadata": {},
   "source": [
    "#### Que.4.Define a dictionary with keys representing months and values as the number of days in each month. Write a program to print all the keys (months) in the dictionary.\n"
   ]
  },
  {
   "cell_type": "code",
   "execution_count": 4,
   "id": "c3d897e3",
   "metadata": {},
   "outputs": [
    {
     "data": {
      "text/plain": [
       "dict_keys(['Jan', 'Feb', 'Mar', 'Apr', 'May', 'Jun', 'Jul', 'Aug', 'Sept', 'Oct', 'Nov', 'Dec'])"
      ]
     },
     "execution_count": 4,
     "metadata": {},
     "output_type": "execute_result"
    }
   ],
   "source": [
    "month_dict= {\"Jan\":31, \"Feb\":28, \"Mar\":31, \"Apr\":30, \"May\":31,\"Jun\":30,\"Jul\":31,\"Aug\":31,\"Sept\":30, \"Oct\":31,\"Nov\":30, \"Dec\":31}\n",
    "month_dict.keys()"
   ]
  },
  {
   "cell_type": "markdown",
   "id": "4686f388",
   "metadata": {},
   "source": [
    "#### Que.5. Create a list of names and generate a dictionary where the keys are the names, and the values are the lengths of the names.\n"
   ]
  },
  {
   "cell_type": "code",
   "execution_count": 5,
   "id": "cb6bf69e",
   "metadata": {},
   "outputs": [
    {
     "name": "stdout",
     "output_type": "stream",
     "text": [
      "{'Nikita': 6, 'Mayuri': 5, 'Jasmin': 6, 'Minu': 4}\n"
     ]
    }
   ],
   "source": [
    "name_dict = dict([(\"Nikita\",6),(\"Mayuri\", 5), (\"Jasmin\",6), (\"Minu\", 4)])\n",
    "print(name_dict)"
   ]
  },
  {
   "cell_type": "markdown",
   "id": "f7a3cbdb",
   "metadata": {},
   "source": [
    "#### Que.6.Make a dictionary with information about items and their prices. Write a program that iterates through the dictionary and prints each item and its price\n"
   ]
  },
  {
   "cell_type": "code",
   "execution_count": 6,
   "id": "736b196e",
   "metadata": {},
   "outputs": [
    {
     "name": "stdout",
     "output_type": "stream",
     "text": [
      "Mobile  -  10000\n",
      "TV      -  40000\n",
      "Laptop  -  75000\n",
      "AC      -  65000\n"
     ]
    }
   ],
   "source": [
    "item_dict = {\"Mobile\":10000, \"TV    \":40000, \"Laptop\":75000, \"AC    \":65000}\n",
    "\n",
    "for key,values in item_dict.items():\n",
    "    print(key,  \" - \",  values)"
   ]
  },
  {
   "cell_type": "markdown",
   "id": "02ae35f2",
   "metadata": {},
   "source": [
    "#### Que.7.Write a program that checks if a specific key is present in a dictionary and prints a message indicating its presence or absence.\n"
   ]
  },
  {
   "cell_type": "code",
   "execution_count": 7,
   "id": "55533196",
   "metadata": {},
   "outputs": [
    {
     "data": {
      "text/plain": [
       "False"
      ]
     },
     "execution_count": 7,
     "metadata": {},
     "output_type": "execute_result"
    }
   ],
   "source": [
    "month_dict= {\"Jan\":31, \"Mar\":31, \"Apr\":30, \"Jun\":30,\"Jul\":31,\"Aug\":31,\"Oct\":31,\"Nov\":30}\n",
    "\"Feb\" in month_dict"
   ]
  },
  {
   "cell_type": "code",
   "execution_count": 8,
   "id": "768939b9",
   "metadata": {},
   "outputs": [
    {
     "data": {
      "text/plain": [
       "True"
      ]
     },
     "execution_count": 8,
     "metadata": {},
     "output_type": "execute_result"
    }
   ],
   "source": [
    "\"Apr\" in  month_dict"
   ]
  },
  {
   "cell_type": "code",
   "execution_count": 9,
   "id": "013ef8ba",
   "metadata": {},
   "outputs": [
    {
     "data": {
      "text/plain": [
       "False"
      ]
     },
     "execution_count": 9,
     "metadata": {},
     "output_type": "execute_result"
    }
   ],
   "source": [
    "\"Mar\" not in month_dict"
   ]
  },
  {
   "cell_type": "markdown",
   "id": "52a302f1",
   "metadata": {},
   "source": [
    "#### Que.8. Define a dictionary with words as keys and their lengths as values. Sort the dictionary based on the values and print the sorted results.\n",
    "\n"
   ]
  },
  {
   "cell_type": "code",
   "execution_count": 10,
   "id": "05d23b55",
   "metadata": {},
   "outputs": [
    {
     "name": "stdout",
     "output_type": "stream",
     "text": [
      "Sorted values ----->  [4, 5, 6, 6]\n"
     ]
    }
   ],
   "source": [
    "name_dict = {\"Nikita\":6, \"Mayuri\":5, \"Jasmin\":6, \"Minu\":4}\n",
    "sort_v= sorted(name_dict.values())\n",
    "print(\"Sorted values -----> \", sort_v)"
   ]
  },
  {
   "cell_type": "markdown",
   "id": "97620c08",
   "metadata": {},
   "source": [
    "#### Que.9. Assume a dictionary representing the scores of students in a class. Write a program to print the student names, their scores, and calculate the class average.\n"
   ]
  },
  {
   "cell_type": "code",
   "execution_count": 11,
   "id": "5c41b7b0",
   "metadata": {},
   "outputs": [
    {
     "name": "stdout",
     "output_type": "stream",
     "text": [
      "Rohit   -  650\n",
      "Virat   -  750\n",
      "Shubham  -  600\n",
      "Rahul   -  550\n",
      "class average ------>  637.5\n"
     ]
    }
   ],
   "source": [
    "score_dict ={\"Rohit \":650, \"Virat \":750, \"Shubham\":600, \"Rahul \":550}\n",
    "for key,values in score_dict.items():\n",
    "    print(key,  \" - \",  values)\n",
    "\n",
    "avg_score = sum(score_dict.values()) / len(score_dict.values())\n",
    "print(\"class average ------> \", avg_score)"
   ]
  },
  {
   "cell_type": "markdown",
   "id": "cd90571f",
   "metadata": {},
   "source": [
    "#### Que.10.Create a nested dictionary to represent a library catalog with books and their details(title, author, and publication year). Write a program to access and print the information for a specific book.\n",
    "\n"
   ]
  },
  {
   "cell_type": "code",
   "execution_count": 12,
   "id": "c83d3914",
   "metadata": {},
   "outputs": [
    {
     "data": {
      "text/plain": [
       "{'Title': 'The battle of belonging',\n",
       " 'Author': 'Shashi Tharoor',\n",
       " 'Publication year': 2020}"
      ]
     },
     "execution_count": 12,
     "metadata": {},
     "output_type": "execute_result"
    }
   ],
   "source": [
    "library_dict = {\"Book1\":{\"Title\":\"The battle of belonging\",\"Author\":\"Shashi Tharoor\",\"Publication year\":2020}, \n",
    "           \"Book2\":{\"Title\":\"Let Me Say it Now\", \"Author\":\"Rakesh Maria\",\"Year of Publication\":2020}}\n",
    "library_dict[\"Book1\"]"
   ]
  },
  {
   "cell_type": "code",
   "execution_count": null,
   "id": "24b613d0",
   "metadata": {},
   "outputs": [],
   "source": []
  },
  {
   "cell_type": "code",
   "execution_count": null,
   "id": "c87807f3",
   "metadata": {},
   "outputs": [],
   "source": []
  }
 ],
 "metadata": {
  "kernelspec": {
   "display_name": "Python 3 (ipykernel)",
   "language": "python",
   "name": "python3"
  },
  "language_info": {
   "codemirror_mode": {
    "name": "ipython",
    "version": 3
   },
   "file_extension": ".py",
   "mimetype": "text/x-python",
   "name": "python",
   "nbconvert_exporter": "python",
   "pygments_lexer": "ipython3",
   "version": "3.11.4"
  }
 },
 "nbformat": 4,
 "nbformat_minor": 5
}
