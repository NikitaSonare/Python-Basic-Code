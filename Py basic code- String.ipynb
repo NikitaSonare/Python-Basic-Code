{
 "cells": [
  {
   "cell_type": "markdown",
   "id": "1f7a5fd2",
   "metadata": {},
   "source": [
    "# String"
   ]
  },
  {
   "cell_type": "markdown",
   "id": "6492a183",
   "metadata": {},
   "source": [
    "#### Que.1 Write a Python program that takes a string as input and returns the reverse of that string.\n",
    "\n"
   ]
  },
  {
   "cell_type": "code",
   "execution_count": 1,
   "id": "17a94f05",
   "metadata": {},
   "outputs": [],
   "source": [
    "def str1(string):\n",
    "    reverse_str = string[ : :-1]\n",
    "    print(\"Reverse string------>\",reverse_str)"
   ]
  },
  {
   "cell_type": "code",
   "execution_count": 2,
   "id": "c4c2c6c9",
   "metadata": {},
   "outputs": [
    {
     "data": {
      "text/plain": [
       "'Nikita'"
      ]
     },
     "execution_count": 2,
     "metadata": {},
     "output_type": "execute_result"
    }
   ],
   "source": [
    "str(\"Nikita\")"
   ]
  },
  {
   "cell_type": "markdown",
   "id": "e14765eb",
   "metadata": {},
   "source": [
    "#### Que.2.Make a function that checks if a given string is a palindrome (reads the same forwards and backwards).\n"
   ]
  },
  {
   "cell_type": "code",
   "execution_count": 3,
   "id": "106bc0e2",
   "metadata": {},
   "outputs": [],
   "source": [
    "def str2(string):\n",
    "    if (string==string[ : :-1]):\n",
    "        print(\"The string is palindrome.\")\n",
    "    else:\n",
    "        print(\"The string is not a palindrome.\")"
   ]
  },
  {
   "cell_type": "code",
   "execution_count": 4,
   "id": "136730c4",
   "metadata": {},
   "outputs": [
    {
     "name": "stdout",
     "output_type": "stream",
     "text": [
      "The string is palindrome.\n"
     ]
    }
   ],
   "source": [
    "str2(\"radar\")"
   ]
  },
  {
   "cell_type": "markdown",
   "id": "16b51979",
   "metadata": {},
   "source": [
    "#### Que.3. Write a function to count the number of vowels (a, e, i, o, u) in a given string."
   ]
  },
  {
   "cell_type": "code",
   "execution_count": 9,
   "id": "551a4756",
   "metadata": {},
   "outputs": [],
   "source": [
    "def str3(string_stat):\n",
    "\n",
    "    count = 0\n",
    "    vowels = [\"a\", \"e\", \"i\", \"o\", \"u\",\"A\",\"E\",\"I\",\"O\",\"U\"]\n",
    "    for i in range(len(string_stat)):\n",
    "        if string_stat[i] in vowels:\n",
    "            count = count + 1\n",
    "\n",
    "    print(\"Number of vowels in the given string statement is: \", count)"
   ]
  },
  {
   "cell_type": "code",
   "execution_count": 10,
   "id": "b1978ec7",
   "metadata": {},
   "outputs": [
    {
     "name": "stdout",
     "output_type": "stream",
     "text": [
      "Number of vowels in the given string statement is:  30\n"
     ]
    }
   ],
   "source": [
    "str3(\"Strings in python are surrounded by either single quotation marks, or double quotation marks.\")"
   ]
  },
  {
   "cell_type": "markdown",
   "id": "9e9573b7",
   "metadata": {},
   "source": [
    "#### Que.4.Given two strings, write a program to concatenate them without using the + operator."
   ]
  },
  {
   "cell_type": "code",
   "execution_count": 11,
   "id": "1eff1862",
   "metadata": {},
   "outputs": [],
   "source": [
    "def str4(string1,string2):\n",
    "    conc_str= ''.join([string1,string2])\n",
    "    print(conc_str)"
   ]
  },
  {
   "cell_type": "code",
   "execution_count": 12,
   "id": "7ca22440",
   "metadata": {},
   "outputs": [
    {
     "name": "stdout",
     "output_type": "stream",
     "text": [
      "NikitaSonare\n"
     ]
    }
   ],
   "source": [
    "str4(\"Nikita\",\"Sonare\")"
   ]
  },
  {
   "cell_type": "markdown",
   "id": "aad73826",
   "metadata": {},
   "source": [
    "#### Que.5.Given a string, write a program to extract a substring between a specified start and end index.\n"
   ]
  },
  {
   "cell_type": "code",
   "execution_count": 13,
   "id": "d2fa5a72",
   "metadata": {},
   "outputs": [],
   "source": [
    "def str5(my_string):\n",
    "    ex_str =my_string[3 : 13]\n",
    "    print(ex_str)"
   ]
  },
  {
   "cell_type": "code",
   "execution_count": 14,
   "id": "bb6291cb",
   "metadata": {},
   "outputs": [
    {
     "name": "stdout",
     "output_type": "stream",
     "text": [
      "come to Py\n"
     ]
    }
   ],
   "source": [
    "str5(\"Welcome to Python.\")"
   ]
  },
  {
   "cell_type": "markdown",
   "id": "dd9294d6",
   "metadata": {},
   "source": [
    "#### Que.6.Make a function that checks if two given strings are anagrams (contain the same characters in a different order).\n"
   ]
  },
  {
   "cell_type": "code",
   "execution_count": 15,
   "id": "fdab1bf4",
   "metadata": {},
   "outputs": [],
   "source": [
    "def str6(str1,str2):\n",
    "    if (sorted(str1) == sorted(str2)):\n",
    "        print(\"The strings are anagrams.\")\n",
    "    else:\n",
    "        print(\"The strings are not anagrams.\")"
   ]
  },
  {
   "cell_type": "code",
   "execution_count": 17,
   "id": "c698a371",
   "metadata": {},
   "outputs": [
    {
     "name": "stdout",
     "output_type": "stream",
     "text": [
      "The strings are anagrams.\n"
     ]
    }
   ],
   "source": [
    "str6(\"listen\",\"silent\")"
   ]
  },
  {
   "cell_type": "markdown",
   "id": "ff8efd38",
   "metadata": {},
   "source": [
    "#### Que.7. Find a function that calculates the frequency of each character in a string and returns the results as a dictionary.\n"
   ]
  },
  {
   "cell_type": "code",
   "execution_count": 18,
   "id": "ebd66991",
   "metadata": {},
   "outputs": [],
   "source": [
    "def str7(string):\n",
    "    \n",
    "    string_dict = {}\n",
    "    for i in string:\n",
    "        if i in string_dict:\n",
    "            string_dict[i]= string_dict[i]+1\n",
    "        else:\n",
    "            string_dict[i]=1\n",
    "    print(\"The frequency of each character in a string \\n \",\n",
    "          dict(string_dict))"
   ]
  },
  {
   "cell_type": "code",
   "execution_count": 19,
   "id": "3aaa432e",
   "metadata": {},
   "outputs": [
    {
     "name": "stdout",
     "output_type": "stream",
     "text": [
      "The frequency of each character in a string \n",
      "  {'S': 1, 't': 7, 'r': 8, 'i': 6, 'n': 7, 'g': 2, 's': 5, ' ': 13, 'p': 1, 'y': 2, 'h': 2, 'o': 8, 'a': 5, 'e': 6, 'u': 5, 'd': 3, 'b': 2, 'l': 2, 'q': 2, 'm': 2, 'k': 2, ',': 1, '.': 1}\n"
     ]
    }
   ],
   "source": [
    "str7(\"Strings in python are surrounded by either single quotation marks, or double quotation marks.\")"
   ]
  },
  {
   "cell_type": "markdown",
   "id": "1031d0bb",
   "metadata": {},
   "source": [
    "#### Que.8. Write a program to remove duplicate characters from a string and return the string without duplicates.\n"
   ]
  },
  {
   "cell_type": "code",
   "execution_count": 20,
   "id": "29d13aa8",
   "metadata": {},
   "outputs": [],
   "source": [
    "def str8(string):\n",
    "    remove_string = \"\"\n",
    "    for i in string:\n",
    "        if i not in remove_string:\n",
    "            remove_string =  remove_string +i\n",
    "    print(\"String without duplicates ------> \",remove_string)"
   ]
  },
  {
   "cell_type": "code",
   "execution_count": 21,
   "id": "2960d473",
   "metadata": {},
   "outputs": [
    {
     "name": "stdout",
     "output_type": "stream",
     "text": [
      "String without duplicates ------>  Python, dap\n"
     ]
    }
   ],
   "source": [
    "str8(\"Python, data , python\")"
   ]
  },
  {
   "cell_type": "markdown",
   "id": "3a843bcf",
   "metadata": {},
   "source": [
    "#### Que.9.Given two strings, write a function that checks if one is a rotation of the other. For example, waterbottle is a rotation of erbottlewat.\n"
   ]
  },
  {
   "cell_type": "code",
   "execution_count": 22,
   "id": "730015c4",
   "metadata": {},
   "outputs": [],
   "source": [
    "def str10(str1,str2):\n",
    "    str3 = str1 + str1\n",
    "    if str2 in str3:\n",
    "        print(\"It is a rotation of other.\")\n",
    "    else:\n",
    "        print(\"It is not a rotation of other.\")"
   ]
  },
  {
   "cell_type": "code",
   "execution_count": 23,
   "id": "d87977b3",
   "metadata": {},
   "outputs": [
    {
     "name": "stdout",
     "output_type": "stream",
     "text": [
      "It is a rotation of other.\n"
     ]
    }
   ],
   "source": [
    "str10(\"waterbottle\",\"erbottlewat\")"
   ]
  },
  {
   "cell_type": "markdown",
   "id": "e88a7c73",
   "metadata": {},
   "source": [
    "#### Que.10.Assume a function to convert a given string into a title case, where the first letter of each word is capitalized.\n"
   ]
  },
  {
   "cell_type": "code",
   "execution_count": 25,
   "id": "03e2ecfc",
   "metadata": {},
   "outputs": [],
   "source": [
    "def str10(string):\n",
    "    title_case = string.title()\n",
    "    print(\"String in Title case------> \",title_case)"
   ]
  },
  {
   "cell_type": "code",
   "execution_count": 26,
   "id": "55b3ca22",
   "metadata": {},
   "outputs": [
    {
     "name": "stdout",
     "output_type": "stream",
     "text": [
      "String in Title case------>  A Function To Convert A Given String Into A Title Case\n"
     ]
    }
   ],
   "source": [
    "str10(\"a function to convert a given string into a title case\")"
   ]
  },
  {
   "cell_type": "code",
   "execution_count": null,
   "id": "862c8378",
   "metadata": {},
   "outputs": [],
   "source": []
  }
 ],
 "metadata": {
  "kernelspec": {
   "display_name": "Python 3 (ipykernel)",
   "language": "python",
   "name": "python3"
  },
  "language_info": {
   "codemirror_mode": {
    "name": "ipython",
    "version": 3
   },
   "file_extension": ".py",
   "mimetype": "text/x-python",
   "name": "python",
   "nbconvert_exporter": "python",
   "pygments_lexer": "ipython3",
   "version": "3.11.4"
  }
 },
 "nbformat": 4,
 "nbformat_minor": 5
}
