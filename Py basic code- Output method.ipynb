{
 "cells": [
  {
   "cell_type": "markdown",
   "id": "01b097c5",
   "metadata": {},
   "source": [
    "# Output Method"
   ]
  },
  {
   "cell_type": "markdown",
   "id": "f5cc2dcb",
   "metadata": {},
   "source": [
    "#### Que.1- Python program that prints \"Hello, World!\" to the console.\n"
   ]
  },
  {
   "cell_type": "code",
   "execution_count": 1,
   "id": "210a5529",
   "metadata": {},
   "outputs": [
    {
     "name": "stdout",
     "output_type": "stream",
     "text": [
      "Hello,World!\n"
     ]
    }
   ],
   "source": [
    "print(\"Hello,World!\")"
   ]
  },
  {
   "cell_type": "markdown",
   "id": "82c03f56",
   "metadata": {},
   "source": [
    "#### Que.2-Create a program that takes a number as input and prints its multiplication table from 1 to 10.\n"
   ]
  },
  {
   "cell_type": "code",
   "execution_count": 2,
   "id": "82c75d2b",
   "metadata": {},
   "outputs": [
    {
     "name": "stdout",
     "output_type": "stream",
     "text": [
      "Enter a number------->  6\n",
      "6 * 1 = 6\n",
      "6 * 2 = 12\n",
      "6 * 3 = 18\n",
      "6 * 4 = 24\n",
      "6 * 5 = 30\n",
      "6 * 6 = 36\n",
      "6 * 7 = 42\n",
      "6 * 8 = 48\n",
      "6 * 9 = 54\n",
      "6 * 10 = 60\n"
     ]
    }
   ],
   "source": [
    "num = int(input(\"Enter a number------->  \"))\n",
    "for i in range(1,11):\n",
    "    print(num,\"*\",i,\"=\",num*i)"
   ]
  },
  {
   "cell_type": "markdown",
   "id": "dfa7177a",
   "metadata": {},
   "source": [
    "#### Que.3-  Write a program that counts down from a specified number to 1 and then prints \"Blast-off!\"\n"
   ]
  },
  {
   "cell_type": "code",
   "execution_count": 3,
   "id": "492a794c",
   "metadata": {},
   "outputs": [
    {
     "name": "stdout",
     "output_type": "stream",
     "text": [
      "5\n",
      "4\n",
      "3\n",
      "2\n",
      "1\n",
      "Blast-off!\n"
     ]
    }
   ],
   "source": [
    "import time \n",
    "for i in range(5, 0, -1): \n",
    "    print(i) \n",
    "    time.sleep(1) \n",
    "print(\"Blast-off!\")"
   ]
  },
  {
   "cell_type": "markdown",
   "id": "a1a58825",
   "metadata": {},
   "source": [
    "#### Que.4-Generate a program that prints a pyramid of stars, where the user provides the number of rows for the pyramid.\n"
   ]
  },
  {
   "cell_type": "code",
   "execution_count": 4,
   "id": "5bafe328",
   "metadata": {},
   "outputs": [
    {
     "name": "stdout",
     "output_type": "stream",
     "text": [
      "Enter number of rows---->  5\n",
      "            * \n",
      "          * * * \n",
      "        * * * * * \n",
      "      * * * * * * * \n",
      "    * * * * * * * * * \n"
     ]
    }
   ],
   "source": [
    "row = int(input(\"Enter number of rows---->  \"))\n",
    "for i in range(row):\n",
    "    for j in range(i,row+1):\n",
    "        print(\" \",end=\" \")\n",
    "    for j in range(i):\n",
    "        print(\"*\",end=\" \")\n",
    "    for j in range(i+1):\n",
    "        print(\"*\",end=\" \")\n",
    "    print()"
   ]
  },
  {
   "cell_type": "markdown",
   "id": "8f2bb324",
   "metadata": {},
   "source": [
    "#### Que.5- Ask the user for a number \"n\" and print a pattern of numbers from 1 to n in the following way:\n",
    "        1\n",
    "        12\n",
    "        123\n",
    "        1234"
   ]
  },
  {
   "cell_type": "code",
   "execution_count": 5,
   "id": "9c553594",
   "metadata": {},
   "outputs": [
    {
     "name": "stdout",
     "output_type": "stream",
     "text": [
      "Enter a number -------> 5\n",
      "1\n",
      "12\n",
      "123\n",
      "1234\n"
     ]
    }
   ],
   "source": [
    "user = int(input(\"Enter a number -------> \"))\n",
    "for i in range(1, user):\n",
    "    for j in range(1, i + 1):\n",
    "        print(j,end='')\n",
    "    print(\"\")"
   ]
  },
  {
   "cell_type": "markdown",
   "id": "84960b3e",
   "metadata": {},
   "source": [
    "#### Que.6- Make a program that calculates and prints the sum of all numbers from 1 to a user-specified number.\n"
   ]
  },
  {
   "cell_type": "code",
   "execution_count": 6,
   "id": "6f92b1f7",
   "metadata": {},
   "outputs": [
    {
     "name": "stdout",
     "output_type": "stream",
     "text": [
      "Enter a number -----> 10\n",
      "Sum of all numbers from 1 to  5 is 55.0\n"
     ]
    }
   ],
   "source": [
    "user_num = int(input(\"Enter a number -----> \"))\n",
    "sum_num = user_num*(user_num+1)/2\n",
    "print(\"Sum of all numbers from 1 to \",user,\"is\",sum_num)"
   ]
  },
  {
   "cell_type": "markdown",
   "id": "e4a5a483",
   "metadata": {},
   "source": [
    "#### Que.7- Ask the user to enter a character (e.g., '*') and a number. Print a square of that character with the given number of rows and columns\n"
   ]
  },
  {
   "cell_type": "code",
   "execution_count": 7,
   "id": "fb550275",
   "metadata": {},
   "outputs": [
    {
     "name": "stdout",
     "output_type": "stream",
     "text": [
      "Enter the number of rows------> 4\n",
      "Enter the number of columns------> 5\n",
      "Enter the symbol-------> *\n",
      "*****\n",
      "*****\n",
      "*****\n",
      "*****\n"
     ]
    }
   ],
   "source": [
    "rows = int(input('Enter the number of rows------> '))\n",
    "columns = int(input('Enter the number of columns------> '))\n",
    "symbol = input('Enter the symbol-------> ')\n",
    "\n",
    "for i in range(rows):\n",
    "    print(symbol * columns)"
   ]
  },
  {
   "cell_type": "markdown",
   "id": "bfe1fb50",
   "metadata": {},
   "source": [
    "#### Que.8-Write a program that asks the user to enter a positive integer and then prints the factorial of that number.\n"
   ]
  },
  {
   "cell_type": "code",
   "execution_count": 8,
   "id": "6aa87ad0",
   "metadata": {},
   "outputs": [
    {
     "name": "stdout",
     "output_type": "stream",
     "text": [
      "Enter a positive integer------>   10\n",
      "Factorial of  10 is 3628800\n"
     ]
    }
   ],
   "source": [
    "import math\n",
    "user= int(input(\"Enter a positive integer------>   \"))\n",
    "          \n",
    "facto= math.factorial(user)\n",
    "print(\"Factorial of \",user,\"is\",facto)\n"
   ]
  },
  {
   "cell_type": "markdown",
   "id": "43b1bc22",
   "metadata": {},
   "source": [
    "#### Que.9- BMI calculator program (as in a previous question) and print the user's BMI category (e.g., underweight, normal, overweight, obese).(e.g., underweight, normal, overweight, obese).\n"
   ]
  },
  {
   "cell_type": "code",
   "execution_count": 13,
   "id": "ffb3226d",
   "metadata": {},
   "outputs": [
    {
     "name": "stdout",
     "output_type": "stream",
     "text": [
      "Enter your height in meter--------->  1.65\n",
      "Enter your weight in kg------------>  68\n",
      "Your Body Mass Index is------->  24.977043158861342\n",
      "You are Obese.\n"
     ]
    }
   ],
   "source": [
    "height= float(input(\"Enter your height in meter--------->  \"))\n",
    "weight= float(input(\"Enter your weight in kg------------>  \"))\n",
    "\n",
    "BMI = weight / (height * height)\n",
    "\n",
    "print(\"Your Body Mass Index is-------> \", BMI)\n",
    "\n",
    "if BMI <= 18.5:\n",
    "    print(\"You are Underweight.\")\n",
    "elif 18.5 < BMI <= 24.9:\n",
    "    print(\"Your weight is normal.\")\n",
    "elif 25 < BMI <= 29.9 :\n",
    "    print(\"You are overweight.\")\n",
    "else:\n",
    "    print(\"You are Obese.\")"
   ]
  },
  {
   "cell_type": "markdown",
   "id": "a302f838",
   "metadata": {},
   "source": [
    "#### Que.10-Ask the user to input the principal amount, rate of interest, and time in years.Calculate and print the simple interest.\n"
   ]
  },
  {
   "cell_type": "code",
   "execution_count": 1,
   "id": "13b92ad3",
   "metadata": {},
   "outputs": [
    {
     "name": "stdout",
     "output_type": "stream",
     "text": [
      "Enter a Principal amount --------> 100000\n",
      "Enter a rate of interest in percent ----> 13.5\n",
      "Enetr a time in year ------------> 2\n",
      "The Simple Interest is  27000.0\n"
     ]
    }
   ],
   "source": [
    "amount= int(input(\"Enter a Principal amount --------> \"))\n",
    "interest= float(input(\"Enter a rate of interest in percent ----> \"))\n",
    "time= float(input(\"Enetr a time in year ------------> \"))\n",
    "\n",
    "SI= (amount*interest*time)/100\n",
    "print(\"The Simple Interest is \", SI)"
   ]
  },
  {
   "cell_type": "code",
   "execution_count": null,
   "id": "730b5a82",
   "metadata": {},
   "outputs": [],
   "source": []
  },
  {
   "cell_type": "code",
   "execution_count": null,
   "id": "a03837af",
   "metadata": {},
   "outputs": [],
   "source": []
  },
  {
   "cell_type": "code",
   "execution_count": null,
   "id": "2cb766c6",
   "metadata": {},
   "outputs": [],
   "source": []
  }
 ],
 "metadata": {
  "kernelspec": {
   "display_name": "Python 3 (ipykernel)",
   "language": "python",
   "name": "python3"
  },
  "language_info": {
   "codemirror_mode": {
    "name": "ipython",
    "version": 3
   },
   "file_extension": ".py",
   "mimetype": "text/x-python",
   "name": "python",
   "nbconvert_exporter": "python",
   "pygments_lexer": "ipython3",
   "version": "3.11.4"
  }
 },
 "nbformat": 4,
 "nbformat_minor": 5
}
