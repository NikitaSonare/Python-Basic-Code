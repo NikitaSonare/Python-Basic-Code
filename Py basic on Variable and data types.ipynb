{
 "cells": [
  {
   "cell_type": "markdown",
   "id": "67f5fb7e",
   "metadata": {},
   "source": [
    "# Variable and Data types"
   ]
  },
  {
   "cell_type": "markdown",
   "id": "3863edf1",
   "metadata": {},
   "source": [
    "#### Que.1- Create two variables, a and b, and swap their values without using a temporary variable."
   ]
  },
  {
   "cell_type": "code",
   "execution_count": 1,
   "id": "1b0fd1b6",
   "metadata": {},
   "outputs": [
    {
     "name": "stdout",
     "output_type": "stream",
     "text": [
      "After Swapping: a = 20  a = 20\n"
     ]
    }
   ],
   "source": [
    "a = 25\n",
    "b = 20\n",
    "print(\"After Swapping: a =\", b, \" a =\", b)"
   ]
  },
  {
   "cell_type": "markdown",
   "id": "d9b35d8a",
   "metadata": {},
   "source": [
    "#### Que.2- Ask the user for an integer and convert it to a string. Then, print the data type of the converted variable.\n"
   ]
  },
  {
   "cell_type": "code",
   "execution_count": 2,
   "id": "881ec1a9",
   "metadata": {},
   "outputs": [
    {
     "name": "stdout",
     "output_type": "stream",
     "text": [
      "Enter an integer -------> 75\n",
      "String Variable after conversion ----->  75\n",
      "Type of variable after conversion ------>  <class 'str'>\n"
     ]
    }
   ],
   "source": [
    "user = int(input(\"Enter an integer -------> \"))\n",
    "convert_str =str(user)\n",
    "print(\"String Variable after conversion -----> \",convert_str)\n",
    "print(\"Type of variable after conversion ------> \",  type(convert_str))\n"
   ]
  },
  {
   "cell_type": "markdown",
   "id": "95ce05d9",
   "metadata": {},
   "source": [
    "#### Que.3- Make a list of numbers and add a new number to the end of the list. Then, remove the first element and print the modified list.\n"
   ]
  },
  {
   "cell_type": "code",
   "execution_count": 3,
   "id": "f61bb580",
   "metadata": {},
   "outputs": [
    {
     "name": "stdout",
     "output_type": "stream",
     "text": [
      "Original list-------> [23, 45, 78, 56, 48, 79]\n",
      "Modified list-------> [45, 78, 56, 48, 79, 99]\n"
     ]
    }
   ],
   "source": [
    "num_list = [23,45,78,56,48,79]\n",
    "print(\"Original list------->\",num_list)\n",
    "num_list.append(99)\n",
    "num_list.pop(0)\n",
    "print(\"Modified list------->\",num_list)"
   ]
  },
  {
   "cell_type": "markdown",
   "id": "0afb6503",
   "metadata": {},
   "source": [
    "#### Que.4- Assume a program that asks the user for their name and age. Then, use string formatting to display a massage like \"Hello,[Name]! You are [Age] years old.\"\n",
    "\n"
   ]
  },
  {
   "cell_type": "code",
   "execution_count": 4,
   "id": "b9d05b8b",
   "metadata": {},
   "outputs": [
    {
     "name": "stdout",
     "output_type": "stream",
     "text": [
      "Enter your name --------> 'Nikita'\n",
      "Enter your age ---------> 30\n",
      "Hello, 'Nikita' ! You are 30 years old.\n"
     ]
    }
   ],
   "source": [
    "user_name= str(input(\"Enter your name --------> \"))\n",
    "user_age = int(input(\"Enter your age ---------> \"))\n",
    "\n",
    "print(\"Hello,\",user_name,\"! You are\",user_age,\"years old.\")"
   ]
  },
  {
   "cell_type": "markdown",
   "id": "1f430fff",
   "metadata": {},
   "source": [
    "#### .Que.5- Create variables for two numbers and perform addition, subtraction, multiplication, and division operations. Print the results.\n"
   ]
  },
  {
   "cell_type": "code",
   "execution_count": 5,
   "id": "7456379d",
   "metadata": {},
   "outputs": [
    {
     "name": "stdout",
     "output_type": "stream",
     "text": [
      "The two numbers P and Q are ------>  17  , 12\n",
      "Addition of P and Q ---------->  29\n",
      "Subtraction of P and Q ------->  5\n",
      "Multiplication of P and Q ---->  204\n",
      "Division of P and Q ---------->  1.4166666666666667\n"
     ]
    }
   ],
   "source": [
    "P = 17\n",
    "Q = 12\n",
    "print(\"The two numbers P and Q are ------> \",P ,\" ,\", Q)\n",
    "add = P + Q\n",
    "sub = P - Q\n",
    "multi = P * Q\n",
    "div = P / Q\n",
    "print(\"Addition of P and Q ----------> \",add)\n",
    "print(\"Subtraction of P and Q -------> \",sub)\n",
    "print(\"Multiplication of P and Q ----> \",multi)\n",
    "print(\"Division of P and Q ----------> \",div)\n"
   ]
  },
  {
   "cell_type": "markdown",
   "id": "58649e3d",
   "metadata": {},
   "source": [
    "#### Que.6- Define a constant variable in Python and try to modify its value. Explain whether it's possible or not.\n",
    "\n",
    "Ans.:- In Python, we cannot declare a variable or value as constant in Python. But we can indicate to programmers that a variable is a constant by using an all upper case variable name.The const keyword is used to declare a variable as a constant, meaning its value cannot be changed once it has been initialized. Any attempt to modify a const variable will result in a compilation error, indicating that the code violates the const constraint.\n"
   ]
  },
  {
   "cell_type": "markdown",
   "id": "caf40acd",
   "metadata": {},
   "source": [
    "#### Que.7- Write a program that checks the data type of a variable and prints a message based on whether it's an integer, float, string, or another type.\n"
   ]
  },
  {
   "cell_type": "code",
   "execution_count": 7,
   "id": "84cef28c",
   "metadata": {},
   "outputs": [],
   "source": [
    "def daty(user):\n",
    "    if type(user)== int:\n",
    "        print(\"It is an Integer.\")\n",
    "    elif type(user)==float:\n",
    "        print(\"It is float.\")\n",
    "    elif type(user)==str:\n",
    "        print(\"It is string.\")\n",
    "    else:\n",
    "        print(\"It is another type od data type\")"
   ]
  },
  {
   "cell_type": "code",
   "execution_count": 8,
   "id": "3215f8d0",
   "metadata": {},
   "outputs": [
    {
     "name": "stdout",
     "output_type": "stream",
     "text": [
      "It is float.\n"
     ]
    }
   ],
   "source": [
    "daty(2.5)"
   ]
  },
  {
   "cell_type": "code",
   "execution_count": 9,
   "id": "5201be61",
   "metadata": {},
   "outputs": [
    {
     "name": "stdout",
     "output_type": "stream",
     "text": [
      "It is string.\n"
     ]
    }
   ],
   "source": [
    "daty('Nikita')"
   ]
  },
  {
   "cell_type": "markdown",
   "id": "1739f63d",
   "metadata": {},
   "source": [
    "#### Que.8-Generate a list of squares of numbers from 1 to 10 using list comprehension."
   ]
  },
  {
   "cell_type": "code",
   "execution_count": 10,
   "id": "3b65b44f",
   "metadata": {},
   "outputs": [
    {
     "data": {
      "text/plain": [
       "[1, 4, 9, 16, 25, 36, 49, 64, 81, 100]"
      ]
     },
     "execution_count": 10,
     "metadata": {},
     "output_type": "execute_result"
    }
   ],
   "source": [
    "[i**2 for  i in range(1,11)]"
   ]
  },
  {
   "cell_type": "markdown",
   "id": "d43e83ac",
   "metadata": {},
   "source": [
    "#### Que.9- Create a program that attempts to convert a string to an integer. Handle any potential errors and print an error message.\n",
    "\n"
   ]
  },
  {
   "cell_type": "code",
   "execution_count": 3,
   "id": "61f965de",
   "metadata": {},
   "outputs": [
    {
     "name": "stdout",
     "output_type": "stream",
     "text": [
      "Enter a string ------> 'Nikita'\n",
      "Please enter an integer\n",
      "invalid literal for int() with base 10: \"'Nikita'\"\n"
     ]
    }
   ],
   "source": [
    "user = str(input(\"Enter a string ------> \"))\n",
    "try:\n",
    "    string_int = int(user)\n",
    "    print(string_int)\n",
    "except Exception as e:\n",
    "    print('Please enter an integer')\n",
    "    print(e)"
   ]
  },
  {
   "cell_type": "markdown",
   "id": "0c2b72c3",
   "metadata": {},
   "source": [
    "#### Que.10- Write a program with variables that follow both the snake_case and CamelCase naming conventions. Print a message explaining the conventions.\n"
   ]
  },
  {
   "cell_type": "code",
   "execution_count": 2,
   "id": "7f126fbf",
   "metadata": {},
   "outputs": [
    {
     "name": "stdout",
     "output_type": "stream",
     "text": [
      "snack_case -  each word is in lower case, and separated by underscores.\n",
      "camelCase -   the first letter of the first word is lowercase but the first letter of each subsequent word is uppercase.\n"
     ]
    }
   ],
   "source": [
    "name_conv= str(\" each word is in lower case, and separated by underscores.\")\n",
    "nameConv = str(\" the first letter of the first word is lowercase but the first letter of each subsequent word is uppercase.\")\n",
    "print(\"snack_case -\", name_conv)\n",
    "print(\"camelCase - \", nameConv)"
   ]
  },
  {
   "cell_type": "code",
   "execution_count": null,
   "id": "59e03618",
   "metadata": {},
   "outputs": [],
   "source": []
  },
  {
   "cell_type": "code",
   "execution_count": null,
   "id": "fadbea8c",
   "metadata": {},
   "outputs": [],
   "source": []
  }
 ],
 "metadata": {
  "kernelspec": {
   "display_name": "Python 3 (ipykernel)",
   "language": "python",
   "name": "python3"
  },
  "language_info": {
   "codemirror_mode": {
    "name": "ipython",
    "version": 3
   },
   "file_extension": ".py",
   "mimetype": "text/x-python",
   "name": "python",
   "nbconvert_exporter": "python",
   "pygments_lexer": "ipython3",
   "version": "3.11.4"
  }
 },
 "nbformat": 4,
 "nbformat_minor": 5
}
